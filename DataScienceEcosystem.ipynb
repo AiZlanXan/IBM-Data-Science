{
 "cells": [
  {
   "cell_type": "markdown",
   "id": "f5e717f8-b6ca-4400-8694-244ad675b66e",
   "metadata": {},
   "source": [
    "# Data Science Tools and Ecosystem"
   ]
  },
  {
   "cell_type": "markdown",
   "id": "a6cc01b7-2f91-4c6c-995e-e10203f9e172",
   "metadata": {},
   "source": [
    "In this notebook, Data Science Tools and Ecosystem are summarized."
   ]
  },
  {
   "cell_type": "markdown",
   "id": "81c16840-94a6-4deb-a465-5d45ba6361e3",
   "metadata": {},
   "source": [
    "** Objectives: **\n",
    "\n",
    "* List popular languages for Data Science\n",
    "* List popular libraries for Data Sciende\n",
    "* List a few example"
   ]
  },
  {
   "cell_type": "markdown",
   "id": "e8f0c733-d9e8-43dc-b1a7-373704daefb7",
   "metadata": {},
   "source": [
    "Some of the popular languages that Data Scientists use are:\n",
    "1. R\n",
    "2. python\n",
    "3. Julia\n",
    "4. Scala\n",
    "5. Java"
   ]
  },
  {
   "cell_type": "markdown",
   "id": "89c868cc-6941-4129-a48d-a5dec18777ca",
   "metadata": {},
   "source": [
    "Some of the commonly used libraries used by Data Scientists include:\n",
    "1. Pandas\n",
    "2. Numpy\n",
    "3. ggplot"
   ]
  },
  {
   "cell_type": "markdown",
   "id": "28ad6406-5548-4972-a944-e9658c660da8",
   "metadata": {},
   "source": [
    "|Data Science Tools|\n",
    "|-|\n",
    "|Spark|\n",
    "|Flink|\n",
    "|MySQL|\n",
    "|OpenGuass|"
   ]
  },
  {
   "cell_type": "markdown",
   "id": "fb64c041-c206-4952-a9ab-57d79393d9e2",
   "metadata": {},
   "source": [
    "### Below are a few examples of evaluating arithmetic expressions in Python"
   ]
  },
  {
   "cell_type": "code",
   "execution_count": 17,
   "id": "0ac4e1b4-6eab-43f4-8605-d464cdfdc818",
   "metadata": {},
   "outputs": [
    {
     "data": {
      "text/plain": [
       "17"
      ]
     },
     "execution_count": 17,
     "metadata": {},
     "output_type": "execute_result"
    }
   ],
   "source": [
    "# This a simple arithmetic expression to mutiply then add integers\n",
    "(3*4)+5"
   ]
  },
  {
   "cell_type": "code",
   "execution_count": 21,
   "id": "2a53f5f9-a351-4c3c-83ef-1c1c9b490c7d",
   "metadata": {},
   "outputs": [
    {
     "data": {
      "text/plain": [
       "3.3333333333333335"
      ]
     },
     "execution_count": 21,
     "metadata": {},
     "output_type": "execute_result"
    }
   ],
   "source": [
    "#This will convert 200 minutes to hours by diving by 60\n",
    "200/60"
   ]
  },
  {
   "cell_type": "markdown",
   "id": "7f70d2f9-8465-4244-8cd1-0fe8e24a152b",
   "metadata": {},
   "source": [
    "## Author\n",
    "Xu Zihan"
   ]
  },
  {
   "cell_type": "code",
   "execution_count": null,
   "id": "f9de57fd-39f2-4ca9-b6e9-66303972b1d9",
   "metadata": {},
   "outputs": [],
   "source": []
  },
  {
   "cell_type": "code",
   "execution_count": null,
   "id": "8d76f9c5-ca63-4e3d-a9b7-7a1d8f4bb018",
   "metadata": {},
   "outputs": [],
   "source": []
  }
 ],
 "metadata": {
  "kernelspec": {
   "display_name": "Python 3 (ipykernel)",
   "language": "python",
   "name": "python3"
  },
  "language_info": {
   "codemirror_mode": {
    "name": "ipython",
    "version": 3
   },
   "file_extension": ".py",
   "mimetype": "text/x-python",
   "name": "python",
   "nbconvert_exporter": "python",
   "pygments_lexer": "ipython3",
   "version": "3.10.9"
  }
 },
 "nbformat": 4,
 "nbformat_minor": 5
}
